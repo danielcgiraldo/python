{
 "cells": [
  {
   "cell_type": "markdown",
   "metadata": {},
   "source": [
    "# Data Files and Summary Statistics"
   ]
  },
  {
   "cell_type": "markdown",
   "metadata": {},
   "source": [
    "Para usar csv con python se debe importar el modulo csv"
   ]
  },
  {
   "cell_type": "code",
   "execution_count": null,
   "metadata": {},
   "outputs": [],
   "source": [
    "import csv"
   ]
  },
  {
   "cell_type": "code",
   "execution_count": null,
   "metadata": {},
   "outputs": [],
   "source": [
    "import csv\n",
    "\n",
    "%precision 2 #Posteriormente se debe establecer la cantidad de decimales a leer del csv. Para realizar esto con precisión de 2 decimales se usa %precision 2\n",
    "\n",
    "with open('filename.csv') as csvfile:\n",
    "    mpg = list(csv.DictReader(csvfile)) #mpg es una lista con muchos diccionarios por cada fila, la columna se vuelve la key en los diccionarios\n",
    "\n",
    "\n",
    "len(mpg) #cantidad de filas\n",
    "\n",
    "mpg[0].keys() #obtiene el nombre de todas las columnas\n",
    "\n",
    "sum(float(d['colname']) for d in mpg) / len(mpg) #promedio de valores en una columna\n",
    "\n",
    "set(d['colname'] for d in mpg) #obtenemos los valores unicos de las columnas"
   ]
  }
 ],
 "metadata": {
  "kernelspec": {
   "display_name": "Python 3.10.2 64-bit",
   "language": "python",
   "name": "python3"
  },
  "language_info": {
   "name": "python",
   "version": "3.10.2"
  },
  "orig_nbformat": 4,
  "vscode": {
   "interpreter": {
    "hash": "0f2f6c680cf484319d387fabac80ca4ff4fc33965036e02100b3fe02600f1423"
   }
  }
 },
 "nbformat": 4,
 "nbformat_minor": 2
}
