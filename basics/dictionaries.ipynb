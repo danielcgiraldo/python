{
 "cells": [
  {
   "cell_type": "markdown",
   "metadata": {},
   "source": [
    "# Diccionarios\n",
    "\n",
    "> d = {clave1 : valor1, clave2 : valor2, ...}\n",
    "\n",
    "> d[clave1] = valor1\n",
    "\n",
    "**Nota:** \n",
    "- Las claves deben ser distintas\n",
    "- Las claves y valores son un tipo de dato (cualquiera)(Los valores pueden ser listas)\n",
    "- No sirve .sort()"
   ]
  },
  {
   "cell_type": "markdown",
   "metadata": {},
   "source": [
    "## Agregar Valores\n",
    "\n",
    "> d[clave3] = valor3"
   ]
  },
  {
   "cell_type": "markdown",
   "metadata": {},
   "source": [
    "## Métodos"
   ]
  },
  {
   "cell_type": "markdown",
   "metadata": {},
   "source": [
    "### .clear()\n",
    "Remueve todos los elementos del diccionario"
   ]
  },
  {
   "cell_type": "markdown",
   "metadata": {},
   "source": [
    "### .copy()\n",
    "Devuelve una copia del diccionario\n"
   ]
  },
  {
   "cell_type": "markdown",
   "metadata": {},
   "source": [
    "### .items()\n",
    "Devuelve el diccionario una tabla que no se puede editar"
   ]
  },
  {
   "cell_type": "code",
   "execution_count": 3,
   "metadata": {},
   "outputs": [
    {
     "name": "stdout",
     "output_type": "stream",
     "text": [
      "[('1', 'uno'), ('2', 'dos'), ('3', 'tres')]\n"
     ]
    }
   ],
   "source": [
    "d = {\"1\":\"uno\",\"2\":\"dos\",\"3\":\"tres\"}\n",
    "table = list(d.items())\n",
    "print(table)"
   ]
  },
  {
   "cell_type": "markdown",
   "metadata": {},
   "source": [
    "### .keys()\n",
    "\n",
    "Devuelve una lista con todas las claves"
   ]
  },
  {
   "cell_type": "code",
   "execution_count": 4,
   "metadata": {},
   "outputs": [
    {
     "name": "stdout",
     "output_type": "stream",
     "text": [
      "['1', '2', '3']\n"
     ]
    }
   ],
   "source": [
    "d = {\"1\":\"uno\",\"2\":\"dos\",\"3\":\"tres\"}\n",
    "keys = list(d.keys())\n",
    "print(keys)"
   ]
  },
  {
   "cell_type": "markdown",
   "metadata": {},
   "source": [
    "### .pop(key)\n",
    "Elimina el elemento con la clave especificada"
   ]
  },
  {
   "cell_type": "markdown",
   "metadata": {},
   "source": [
    "### .popitem()\n",
    "\n",
    "Elimina el último elemento agregado al diccionario"
   ]
  },
  {
   "cell_type": "markdown",
   "metadata": {},
   "source": [
    "### .values()\n",
    "Devuelve una lista con todos los valores"
   ]
  },
  {
   "cell_type": "code",
   "execution_count": 5,
   "metadata": {},
   "outputs": [
    {
     "name": "stdout",
     "output_type": "stream",
     "text": [
      "['uno', 'dos', 'tres']\n"
     ]
    }
   ],
   "source": [
    "d = {\"1\":\"uno\",\"2\":\"dos\",\"3\":\"tres\"}\n",
    "values = list(d.values())\n",
    "print(values)"
   ]
  }
 ],
 "metadata": {
  "interpreter": {
   "hash": "0f2f6c680cf484319d387fabac80ca4ff4fc33965036e02100b3fe02600f1423"
  },
  "kernelspec": {
   "display_name": "Python 3.10.2 64-bit",
   "language": "python",
   "name": "python3"
  },
  "language_info": {
   "codemirror_mode": {
    "name": "ipython",
    "version": 3
   },
   "file_extension": ".py",
   "mimetype": "text/x-python",
   "name": "python",
   "nbconvert_exporter": "python",
   "pygments_lexer": "ipython3",
   "version": "3.10.2"
  },
  "orig_nbformat": 4
 },
 "nbformat": 4,
 "nbformat_minor": 2
}
