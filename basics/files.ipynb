{
 "cells": [
  {
   "cell_type": "markdown",
   "metadata": {},
   "source": [
    "# Archivos\n",
    "\n",
    "Para abrir archivos usamos la función **open(path, modo de apertura)** donde __path__ es la ruta en la que se encuentra el archivo y __modo de apertura__ es lo que se quiere hacer con el archivo, puede ser: \n",
    "- \"r\" = read  \n",
    "- \"w\" = write\n",
    "- \"a\" = append\n",
    "   \n",
    "**Nota:** Siempre se debe cerrar el archivo con __.close()__  \n",
    "  \n",
    "Para recorrer cada renglón de la lista considerar cada renglón un elemento de una lista, entonces con un for se puede recorrer. \n"
   ]
  },
  {
   "cell_type": "markdown",
   "metadata": {},
   "source": [
    "## Read"
   ]
  },
  {
   "cell_type": "code",
   "execution_count": null,
   "metadata": {},
   "outputs": [],
   "source": [
    "a = open('./resources/haiku.txt', 'r')\n",
    "for renglon in a:\n",
    "    print(renglon, end='')\n",
    "a.close()"
   ]
  },
  {
   "cell_type": "markdown",
   "metadata": {},
   "source": [
    "## Write"
   ]
  },
  {
   "cell_type": "code",
   "execution_count": null,
   "metadata": {},
   "outputs": [],
   "source": [
    "a = open('./resources/haiku.txt', 'w')\n",
    "print('Hola\\nMundo', end='', file=a)\n",
    "a.close()"
   ]
  },
  {
   "cell_type": "markdown",
   "metadata": {},
   "source": [
    "## Append"
   ]
  },
  {
   "cell_type": "code",
   "execution_count": null,
   "metadata": {},
   "outputs": [],
   "source": [
    "a = open('./resources/haiku.txt', 'a')\n",
    "print('Hola\\nMundo', end='', file=a)\n",
    "a.close()"
   ]
  }
 ],
 "metadata": {
  "interpreter": {
   "hash": "0f2f6c680cf484319d387fabac80ca4ff4fc33965036e02100b3fe02600f1423"
  },
  "kernelspec": {
   "display_name": "Python 3.10.2 64-bit",
   "language": "python",
   "name": "python3"
  },
  "language_info": {
   "codemirror_mode": {
    "name": "ipython",
    "version": 3
   },
   "file_extension": ".py",
   "mimetype": "text/x-python",
   "name": "python",
   "nbconvert_exporter": "python",
   "pygments_lexer": "ipython3",
   "version": "3.10.2"
  },
  "orig_nbformat": 4
 },
 "nbformat": 4,
 "nbformat_minor": 2
}
