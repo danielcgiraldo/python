{
 "cells": [
  {
   "cell_type": "markdown",
   "metadata": {},
   "source": [
    "# Funciones"
   ]
  },
  {
   "cell_type": "code",
   "execution_count": null,
   "metadata": {},
   "outputs": [],
   "source": [
    "def name(parameter):\n",
    "    return result"
   ]
  },
  {
   "cell_type": "markdown",
   "metadata": {},
   "source": [
    "**parameter:** parámetros que recibe la función  \n",
    "**return:** devolver un valor (opcional). Despues del return no se ejecuta nada.  \n",
    "  \n",
    "Dentro de la función las variables funcionan aparte de las variables del resto del programa (La función puede acceder funciones globales pero no escribirlas). Dentro de una función se puede escribir una variable global si se pone global antes de ella."
   ]
  },
  {
   "cell_type": "code",
   "execution_count": 1,
   "metadata": {},
   "outputs": [
    {
     "name": "stdout",
     "output_type": "stream",
     "text": [
      "10\n"
     ]
    }
   ],
   "source": [
    "def name():\n",
    "    global X\n",
    "    X=10\n",
    "\n",
    "name()\n",
    "print(X)"
   ]
  },
  {
   "cell_type": "markdown",
   "metadata": {},
   "source": [
    "### Parámetros\n",
    "\n",
    "Se puede definir el valor por defecto de un parámetro como si está se estuviera asignando. Es posible que se pueda llamar una función sin enviar algun parámetro entonces se coloca __None__. Finalmente, si cuando se llama la función se coloca el nombre de la variable y el valor en los párametros entonces sin importar el orden, se asignará ese valor a la variable que dentro de las condiciones en la función tiene ese nombre."
   ]
  },
  {
   "cell_type": "code",
   "execution_count": 1,
   "metadata": {},
   "outputs": [
    {
     "name": "stdout",
     "output_type": "stream",
     "text": [
      "Flag is true!\n",
      "3\n"
     ]
    }
   ],
   "source": [
    "def add_numbers(x, y, z=None, flag=False):\n",
    "    if(flag):\n",
    "        print(\"Flag is true!\")\n",
    "    if(z==None):\n",
    "        return x + y\n",
    "    else:\n",
    "        return x + y + z\n",
    "\n",
    "print(add_numbers(1, 2, flag=True))"
   ]
  },
  {
   "cell_type": "markdown",
   "metadata": {},
   "source": [
    "## Recursividad"
   ]
  },
  {
   "cell_type": "markdown",
   "metadata": {},
   "source": [
    "LLamar la misma función dentro de ella misma. Nota: Consume más memoria que un ciclo y debe ser usado en casos estrictamente necesarios."
   ]
  }
 ],
 "metadata": {
  "kernelspec": {
   "display_name": "Python 3.10.2 64-bit",
   "language": "python",
   "name": "python3"
  },
  "language_info": {
   "codemirror_mode": {
    "name": "ipython",
    "version": 3
   },
   "file_extension": ".py",
   "mimetype": "text/x-python",
   "name": "python",
   "nbconvert_exporter": "python",
   "pygments_lexer": "ipython3",
   "version": "3.10.2"
  },
  "orig_nbformat": 4,
  "vscode": {
   "interpreter": {
    "hash": "0f2f6c680cf484319d387fabac80ca4ff4fc33965036e02100b3fe02600f1423"
   }
  }
 },
 "nbformat": 4,
 "nbformat_minor": 2
}
